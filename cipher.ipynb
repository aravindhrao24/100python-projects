{
 "cells": [
  {
   "cell_type": "code",
   "execution_count": 35,
   "id": "94cf6c71-9886-43e7-85d0-8c05da5e8f7b",
   "metadata": {},
   "outputs": [
    {
     "name": "stdin",
     "output_type": "stream",
     "text": [
      "Type 'encode' to encrypt,type 'decode' to decrypt:\n",
      " message\n",
      "type your message:\n",
      " message\n",
      "type the shift number:\n",
      " 6\n"
     ]
    },
    {
     "name": "stdout",
     "output_type": "stream",
     "text": [
      "Here is the encoded result: skyygmk\n"
     ]
    }
   ],
   "source": [
    "alphabet=['a', 'b', 'c', 'd', 'e', 'f', 'g', 'h', 'i', 'j', 'k', 'l', 'm', 'n', 'o', 'p', 'q', 'r', 's', 't', 'u', 'v', 'w', 'x', 'y', 'z']\n",
    "direction=input(\"Type 'encode' to encrypt,type 'decode' to decrypt:\\n\").lower()\n",
    "text=input(\"type your message:\\n\").lower()\n",
    "shift=int(input(\"type the shift number:\\n\"))\n",
    "\n",
    "\n",
    "\n",
    "def encrypt(original_text,shift_amount):\n",
    "    cipher_text=\" \"\n",
    "    \n",
    "    for letter in original_text:\n",
    "        shifted_position=alphabet.index(letter) + shift_amount\n",
    "        cipher_text +=alphabet[shifted_position]\n",
    "    print(f\"Here is the encoded result:{ cipher_text}\")        \n",
    "encrypt(original_text=text,shift_amount=shift)"
   ]
  },
  {
   "cell_type": "code",
   "execution_count": null,
   "id": "f74ff9fb-9bbf-4a54-a681-5d59e9283ae9",
   "metadata": {},
   "outputs": [],
   "source": []
  },
  {
   "cell_type": "code",
   "execution_count": null,
   "id": "7e6943b2-8f86-4be1-81c3-5064ac6454b8",
   "metadata": {},
   "outputs": [],
   "source": []
  }
 ],
 "metadata": {
  "kernelspec": {
   "display_name": "Python 3 (ipykernel)",
   "language": "python",
   "name": "python3"
  },
  "language_info": {
   "codemirror_mode": {
    "name": "ipython",
    "version": 3
   },
   "file_extension": ".py",
   "mimetype": "text/x-python",
   "name": "python",
   "nbconvert_exporter": "python",
   "pygments_lexer": "ipython3",
   "version": "3.12.4"
  }
 },
 "nbformat": 4,
 "nbformat_minor": 5
}
